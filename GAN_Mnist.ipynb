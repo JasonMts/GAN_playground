{
 "cells": [
  {
   "cell_type": "code",
   "execution_count": 1,
   "metadata": {},
   "outputs": [],
   "source": [
    "import tensorflow as tf\n",
    "import numpy as np\n"
   ]
  },
  {
   "cell_type": "code",
   "execution_count": null,
   "metadata": {},
   "outputs": [],
   "source": []
  },
  {
   "cell_type": "code",
   "execution_count": 2,
   "metadata": {},
   "outputs": [],
   "source": [
    "#Make placeholders for X (actual output) and z (noise that will be used to generate outputs)\n",
    "\n",
    "X = tf.placeholder(tf.float32, shape=[None, 784])\n",
    "Z = tf.placeholder(tf.float32, shape=[None, 100])"
   ]
  },
  {
   "cell_type": "code",
   "execution_count": null,
   "metadata": {},
   "outputs": [],
   "source": [
    "#we now make a generator and a discriminator with one hidden layer\n",
    "\n",
    "def generator(z):\n",
    "    with tf.variable_scope(\"generator\"): \n",
    "        init = tf.contrib.layers.xavier_initializer()\n",
    "        h1 = tf.layers.dense(inputs=z,units=128,activation=tf.nn.relu, kernel_initializer=init,use_bias=True)\n",
    "        out = tf.layers.dense(inputs=h1,units=784,activation=tf.nn.tanh, kernel_initializer=init,use_bias=True)         \n",
    "\n",
    "        return out\n",
    "\n",
    "\n",
    "def discriminator(x):\n",
    "      with tf.variable_scope(\"discriminator\",reuse=tf.AUTO_REUSE):\n",
    "        \n",
    "        init = tf.contrib.layers.xavier_initializer()\n",
    "        h1 = tf.layers.dense(inputs=x,units=128,activation=tf.nn.relu, kernel_initializer=init,use_bias=True)\n",
    "        logits = tf.layers.dense(inputs=h1,units=1, kernel_initializer=init,use_bias=True)\n",
    "\n",
    "        return logits\n",
    "    "
   ]
  },
  {
   "cell_type": "code",
   "execution_count": null,
   "metadata": {},
   "outputs": [],
   "source": []
  }
 ],
 "metadata": {
  "kernelspec": {
   "display_name": "Python 3",
   "language": "python",
   "name": "python3"
  },
  "language_info": {
   "codemirror_mode": {
    "name": "ipython",
    "version": 3
   },
   "file_extension": ".py",
   "mimetype": "text/x-python",
   "name": "python",
   "nbconvert_exporter": "python",
   "pygments_lexer": "ipython3",
   "version": "3.7.1"
  }
 },
 "nbformat": 4,
 "nbformat_minor": 2
}
